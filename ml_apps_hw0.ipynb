{
 "cells": [
  {
   "cell_type": "code",
   "execution_count": 2,
   "id": "354f1027-febf-43b5-ad23-4f3768c4ba46",
   "metadata": {},
   "outputs": [
    {
     "name": "stdout",
     "output_type": "stream",
     "text": [
      "2\n"
     ]
    }
   ],
   "source": [
    "import math as m\n",
    "\n",
    "a = 1.5\n",
    "print(m.ceil(a))"
   ]
  },
  {
   "cell_type": "markdown",
   "id": "38888cf4-f5a0-4469-813e-2db48627ef65",
   "metadata": {},
   "source": [
    "# I"
   ]
  },
  {
   "cell_type": "markdown",
   "id": "861ad4a4-f946-4f29-a40e-b253827dc22d",
   "metadata": {},
   "source": [
    "## am"
   ]
  },
  {
   "cell_type": "markdown",
   "id": "8d7c8e39-63fb-4983-baa1-89c6d69082d5",
   "metadata": {},
   "source": [
    "~~*Apple*~~"
   ]
  },
  {
   "cell_type": "markdown",
   "id": "60421439-f74d-43a3-bd29-031938c7075d",
   "metadata": {},
   "source": [
    "#### !"
   ]
  }
 ],
 "metadata": {
  "kernelspec": {
   "display_name": "Python 3 (ipykernel)",
   "language": "python",
   "name": "python3"
  },
  "language_info": {
   "codemirror_mode": {
    "name": "ipython",
    "version": 3
   },
   "file_extension": ".py",
   "mimetype": "text/x-python",
   "name": "python",
   "nbconvert_exporter": "python",
   "pygments_lexer": "ipython3",
   "version": "3.9.12"
  }
 },
 "nbformat": 4,
 "nbformat_minor": 5
}
